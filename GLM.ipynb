{
 "cells": [
  {
   "cell_type": "markdown",
   "metadata": {},
   "source": [
    "# Generalized Linear Models\n",
    "Inheritance of eye color"
   ]
  },
  {
   "cell_type": "code",
   "execution_count": 1,
   "metadata": {},
   "outputs": [
    {
     "name": "stderr",
     "output_type": "stream",
     "text": [
      "c:\\users\\schal\\appdata\\local\\programs\\python\\python37\\lib\\site-packages\\statsmodels\\compat\\pandas.py:49: FutureWarning: The Panel class is removed from pandas. Accessing it from the top-level namespace will also be removed in the next version\n",
      "  data_klasses = (pandas.Series, pandas.DataFrame, pandas.Panel)\n"
     ]
    }
   ],
   "source": [
    "import numpy as np                      # all of math \n",
    "from scipy import stats                 # statistical methods\n",
    "import pandas as pd                     # for Dataframes\n",
    "import statsmodels.api as sm            # contains GLM\n",
    "import statsmodels.formula.api as smf   # same glm with patsy \n",
    "import patsy                            # handles formula strings\n",
    "from matplotlib import pyplot as plt    # plotting methods\n",
    "%matplotlib inline"
   ]
  },
  {
   "cell_type": "code",
   "execution_count": 5,
   "metadata": {},
   "outputs": [
    {
     "name": "stdout",
     "output_type": "stream",
     "text": [
      "   PL  PH  PD  GL  GH  GD  N  L\n",
      "0   2   0   0   4   0   0  6  6\n",
      "1   2   0   0   4   0   0  6  6\n",
      "2   2   0   0   4   0   0  6  6\n",
      "3   2   0   0   4   0   0  6  5\n",
      "4   2   0   0   4   0   0  7  7\n",
      "number of families: 78\n"
     ]
    }
   ],
   "source": [
    "# load the data\n",
    "data = pd.read_csv('data/GaltonEyeColorHeredity.csv')\n",
    "# eye color parents P: H = hazel, L = light, D = dark\n",
    "# eye color grand-parents G: H = hazel, L = light, D = dark\n",
    "# number of children (N) and number of children with light eyes (L)\n",
    "print(data.head())\n",
    "print('number of families: {}'.format(len(data)))"
   ]
  },
  {
   "cell_type": "code",
   "execution_count": 6,
   "metadata": {},
   "outputs": [
    {
     "name": "stdout",
     "output_type": "stream",
     "text": [
      "   PL  PH  PD  GL  GH  GD  N  L  PI  GI         Y\n",
      "0   2   0   0   4   0   0  6  6   5  11  1.000000\n",
      "1   2   0   0   4   0   0  6  6   5  11  1.000000\n",
      "2   2   0   0   4   0   0  6  6   5  11  1.000000\n",
      "3   2   0   0   4   0   0  6  5   5  11  0.833333\n",
      "4   2   0   0   4   0   0  7  7   5  11  1.000000\n"
     ]
    }
   ],
   "source": [
    "# create categories (combinatorics: parents 6, grandparents 15)\n",
    "Pi = 100*data['PL']+10*data['PH']+data['PD']\n",
    "data['PI'] = Pi\n",
    "Gi = 100*data['GL']+10*data['GH']+data['GD']\n",
    "data['GI'] = Gi\n",
    "# choose relation of light eyed children as measure of interest (L/N) which follows Bernoulli distribution\n",
    "data['Y'] = data['L']/data['N']\n",
    "data['PI'] = data.PI.astype(\"category\").cat.codes\n",
    "data['GI'] = data.GI.astype(\"category\").cat.codes\n",
    "print(data.head())"
   ]
  },
  {
   "cell_type": "markdown",
   "metadata": {},
   "source": [
    "## Fit a GLM using only the data of the parents to predict the proportion of light-eyed children"
   ]
  },
  {
   "cell_type": "code",
   "execution_count": 7,
   "metadata": {},
   "outputs": [
    {
     "name": "stdout",
     "output_type": "stream",
     "text": [
      "                 Generalized Linear Model Regression Results                  \n",
      "==============================================================================\n",
      "Dep. Variable:                      Y   No. Observations:                   78\n",
      "Model:                            GLM   Df Residuals:                       72\n",
      "Model Family:                Binomial   Df Model:                            5\n",
      "Link Function:                  logit   Scale:                          1.0000\n",
      "Method:                          IRLS   Log-Likelihood:                -26.650\n",
      "Date:                Mon, 18 May 2020   Deviance:                       14.006\n",
      "Time:                        16:38:17   Pearson chi2:                     16.6\n",
      "No. Iterations:                     6   Covariance Type:             nonrobust\n",
      "=====================================================================================================\n",
      "                                        coef    std err          z      P>|z|      [0.025      0.975]\n",
      "-----------------------------------------------------------------------------------------------------\n",
      "Intercept                            -1.1388      0.952     -1.196      0.232      -3.006       0.728\n",
      "C(100 * PL + 10 * PH + PD)[T.11]      0.9840      1.383      0.711      0.477      -1.727       3.695\n",
      "C(100 * PL + 10 * PH + PD)[T.20]      1.5368      1.728      0.889      0.374      -1.851       4.924\n",
      "C(100 * PL + 10 * PH + PD)[T.101]     1.3260      1.058      1.253      0.210      -0.748       3.400\n",
      "C(100 * PL + 10 * PH + PD)[T.110]     2.2624      1.099      2.059      0.039       0.109       4.416\n",
      "C(100 * PL + 10 * PH + PD)[T.200]     4.0604      1.272      3.192      0.001       1.567       6.554\n",
      "=====================================================================================================\n"
     ]
    }
   ],
   "source": [
    "# fit GLM based on only parents data with logit-link-function\n",
    "p_fit = smf.glm(formula='Y ~ C(100*PL+10*PH+PD)', data=data, family = sm.families.Binomial(link=sm.families.links.logit)).fit()\n",
    "print(p_fit.summary())"
   ]
  },
  {
   "cell_type": "code",
   "execution_count": 8,
   "metadata": {},
   "outputs": [
    {
     "name": "stdout",
     "output_type": "stream",
     "text": [
      "Detected and removed 2 outliers\n"
     ]
    },
    {
     "data": {
      "image/png": "[encoded data removed]",
      "text/plain": [
       "<Figure size 432x288 with 1 Axes>"
      ]
     },
     "metadata": {
      "needs_background": "light"
     },
     "output_type": "display_data"
    },
    {
     "name": "stdout",
     "output_type": "stream",
     "text": [
      "                 Generalized Linear Model Regression Results                  \n",
      "==============================================================================\n",
      "Dep. Variable:                      Y   No. Observations:                   76\n",
      "Model:                            GLM   Df Residuals:                       70\n",
      "Model Family:                Binomial   Df Model:                            5\n",
      "Link Function:                  logit   Scale:                          1.0000\n",
      "Method:                          IRLS   Log-Likelihood:                -23.655\n",
      "Date:                Mon, 18 May 2020   Deviance:                       9.3437\n",
      "Time:                        16:40:44   Pearson chi2:                     9.26\n",
      "No. Iterations:                     6   Covariance Type:             nonrobust\n",
      "=====================================================================================================\n",
      "                                        coef    std err          z      P>|z|      [0.025      0.975]\n",
      "-----------------------------------------------------------------------------------------------------\n",
      "Intercept                            -1.1388      0.952     -1.196      0.232      -3.006       0.728\n",
      "C(100 * PL + 10 * PH + PD)[T.11]      0.9840      1.383      0.711      0.477      -1.727       3.695\n",
      "C(100 * PL + 10 * PH + PD)[T.20]      1.5368      1.728      0.889      0.374      -1.851       4.924\n",
      "C(100 * PL + 10 * PH + PD)[T.101]     1.3260      1.058      1.253      0.210      -0.748       3.400\n",
      "C(100 * PL + 10 * PH + PD)[T.110]     2.4862      1.125      2.209      0.027       0.281       4.692\n",
      "C(100 * PL + 10 * PH + PD)[T.200]     4.5648      1.442      3.167      0.002       1.739       7.390\n",
      "=====================================================================================================\n"
     ]
    }
   ],
   "source": [
    "# search for outliers and adapt model\n",
    "residuals = np.abs(data['Y'] - p_fit.fittedvalues)\n",
    "z = np.abs(stats.zscore(residuals,ddof=5))\n",
    "threshold = 3\n",
    "outliers = np.where(z > 3)\n",
    "print('Detected and removed {} outliers'.format(len(outliers[0])))\n",
    "data_pnew = data.drop(outliers[0])\n",
    "plt.plot(np.asarray(data.index),data['Y'] - p_fit.fittedvalues)\n",
    "plt.title('residuals')\n",
    "plt.show();\n",
    "p_fit = smf.glm(formula='Y ~ C(100*PL+10*PH+PD)', data=data_pnew, family = sm.families.Binomial(link=sm.families.links.logit)).fit()\n",
    "print(p_fit.summary())"
   ]
  },
  {
   "cell_type": "code",
   "execution_count": 13,
   "metadata": {},
   "outputs": [
    {
     "name": "stdout",
     "output_type": "stream",
     "text": [
      "0    0.968509\n",
      "1    0.793710\n",
      "2    0.546658\n",
      "3    0.598214\n",
      "4    0.242544\n",
      "5    0.461386\n",
      "dtype: float64\n"
     ]
    }
   ],
   "source": [
    "# predictions for all parent categories\n",
    "parents = pd.DataFrame({'PL': [2,1,1,0,0,0],'PH': [0,1,0,2,0,1],'PD':[0,0,1,0,2,1]})\n",
    "pred_p = p_fit.predict(parents)\n",
    "print(pred_p)"
   ]
  },
  {
   "cell_type": "markdown",
   "metadata": {},
   "source": [
    "If both parents have light eyes, their children quite likely have them as well. It is unlikely that the children have light eyes, if one of the parents has dark eyes. Having hazel eyes also reduces the probability for the child having light eyes but not as much as dark eyes do.\n",
    "\n",
    "| Parents | PL | PH | PD |\n",
    "| --- | --- | --- | --- |\n",
    "| PL | 0.97 | 0.79 | 0.55 |\n",
    "| PH | 0.79 | 0.60 | 0.46 |\n",
    "| PD | 0.55 | 0.46 | 0.24 |"
   ]
  },
  {
   "cell_type": "markdown",
   "metadata": {},
   "source": [
    "## Fit a GLM using data from grandparents and parents to predict the proportion of light-eyed children"
   ]
  },
  {
   "cell_type": "code",
   "execution_count": 14,
   "metadata": {},
   "outputs": [
    {
     "name": "stdout",
     "output_type": "stream",
     "text": [
      "                 Generalized Linear Model Regression Results                  \n",
      "==============================================================================\n",
      "Dep. Variable:                      Y   No. Observations:                   78\n",
      "Model:                            GLM   Df Residuals:                       61\n",
      "Model Family:                Binomial   Df Model:                           16\n",
      "Link Function:                  logit   Scale:                          1.0000\n",
      "Method:                          IRLS   Log-Likelihood:                -25.962\n",
      "Date:                Mon, 18 May 2020   Deviance:                       12.630\n",
      "Time:                        16:48:26   Pearson chi2:                     13.7\n",
      "No. Iterations:                     6   Covariance Type:             nonrobust\n",
      "=====================================================================================================\n",
      "                                        coef    std err          z      P>|z|      [0.025      0.975]\n",
      "-----------------------------------------------------------------------------------------------------\n",
      "Intercept                            -1.2391      2.314     -0.535      0.592      -5.774       3.296\n",
      "C(100 * PL + 10 * PH + PD)[T.11]      1.0310      1.615      0.638      0.523      -2.134       4.196\n",
      "C(100 * PL + 10 * PH + PD)[T.20]      1.2240      1.924      0.636      0.525      -2.547       4.995\n",
      "C(100 * PL + 10 * PH + PD)[T.101]     1.2391      1.164      1.065      0.287      -1.042       3.520\n",
      "C(100 * PL + 10 * PH + PD)[T.110]     2.3597      1.336      1.766      0.077      -0.260       4.979\n",
      "C(100 * PL + 10 * PH + PD)[T.200]     3.7482      1.568      2.390      0.017       0.674       6.822\n",
      "C(100 * GL + 10 * GH + GD)[T.40]     -0.7082      3.278     -0.216      0.829      -7.134       5.717\n",
      "C(100 * GL + 10 * GH + GD)[T.103]     0.0295      2.277      0.013      0.990      -4.433       4.492\n",
      "C(100 * GL + 10 * GH + GD)[T.112]     0.0820      2.376      0.035      0.972      -4.574       4.738\n",
      "C(100 * GL + 10 * GH + GD)[T.121]    -0.2877      2.843     -0.101      0.919      -5.860       5.285\n",
      "C(100 * GL + 10 * GH + GD)[T.130]    -1.3437      2.990     -0.449      0.653      -7.205       4.517\n",
      "C(100 * GL + 10 * GH + GD)[T.202]     0.1120      2.132      0.053      0.958      -4.067       4.291\n",
      "C(100 * GL + 10 * GH + GD)[T.211]     0.7334      2.339      0.314      0.754      -3.850       5.317\n",
      "C(100 * GL + 10 * GH + GD)[T.220]    -0.3451      2.440     -0.141      0.888      -5.127       4.436\n",
      "C(100 * GL + 10 * GH + GD)[T.301]     0.2577      2.111      0.122      0.903      -3.879       4.394\n",
      "C(100 * GL + 10 * GH + GD)[T.310]     0.1367      2.392      0.057      0.954      -4.552       4.825\n",
      "C(100 * GL + 10 * GH + GD)[T.400]     0.6578      2.438      0.270      0.787      -4.120       5.436\n",
      "=====================================================================================================\n"
     ]
    }
   ],
   "source": [
    "# fit GLM using parent and grandparent data\n",
    "g_fit = smf.glm(formula='Y ~ C(100*PL+10*PH+PD) + C(100*GL+10*GH+GD)', data=data, family =sm.families.Binomial(link=sm.families.links.logit)).fit()\n",
    "print(g_fit.summary())"
   ]
  },
  {
   "cell_type": "code",
   "execution_count": 15,
   "metadata": {},
   "outputs": [
    {
     "name": "stdout",
     "output_type": "stream",
     "text": [
      "Detected and removed 2 outliers\n",
      "                 Generalized Linear Model Regression Results                  \n",
      "==============================================================================\n",
      "Dep. Variable:                      Y   No. Observations:                   76\n",
      "Model:                            GLM   Df Residuals:                       59\n",
      "Model Family:                Binomial   Df Model:                           16\n",
      "Link Function:                  logit   Scale:                          1.0000\n",
      "Method:                          IRLS   Log-Likelihood:                -22.893\n",
      "Date:                Mon, 18 May 2020   Deviance:                       7.8185\n",
      "Time:                        16:49:17   Pearson chi2:                     7.70\n",
      "No. Iterations:                     6   Covariance Type:             nonrobust\n",
      "=====================================================================================================\n",
      "                                        coef    std err          z      P>|z|      [0.025      0.975]\n",
      "-----------------------------------------------------------------------------------------------------\n",
      "Intercept                            -1.2773      2.315     -0.552      0.581      -5.814       3.259\n",
      "C(100 * PL + 10 * PH + PD)[T.11]      1.0200      1.615      0.631      0.528      -2.146       4.186\n",
      "C(100 * PL + 10 * PH + PD)[T.20]      1.1994      1.923      0.624      0.533      -2.570       4.969\n",
      "C(100 * PL + 10 * PH + PD)[T.101]     1.2773      1.165      1.096      0.273      -1.006       3.561\n",
      "C(100 * PL + 10 * PH + PD)[T.110]     2.1793      1.337      1.630      0.103      -0.441       4.800\n",
      "C(100 * PL + 10 * PH + PD)[T.200]     4.3204      1.837      2.352      0.019       0.720       7.921\n",
      "C(100 * GL + 10 * GH + GD)[T.40]     -0.6589      3.280     -0.201      0.841      -7.087       5.769\n",
      "C(100 * GL + 10 * GH + GD)[T.103]     0.0529      2.278      0.023      0.981      -4.411       4.517\n",
      "C(100 * GL + 10 * GH + GD)[T.112]     0.1500      2.371      0.063      0.950      -4.497       4.797\n",
      "C(100 * GL + 10 * GH + GD)[T.121]    -0.2877      2.843     -0.101      0.919      -5.860       5.285\n",
      "C(100 * GL + 10 * GH + GD)[T.130]    -1.1251      2.995     -0.376      0.707      -6.995       4.745\n",
      "C(100 * GL + 10 * GH + GD)[T.202]     0.1850      2.134      0.087      0.931      -3.997       4.367\n",
      "C(100 * GL + 10 * GH + GD)[T.211]     0.7846      2.343      0.335      0.738      -3.808       5.377\n",
      "C(100 * GL + 10 * GH + GD)[T.220]     1.2148      3.057      0.397      0.691      -4.777       7.207\n",
      "C(100 * GL + 10 * GH + GD)[T.301]     0.2340      2.111      0.111      0.912      -3.904       4.372\n",
      "C(100 * GL + 10 * GH + GD)[T.310]     0.9636      2.544      0.379      0.705      -4.023       5.951\n",
      "C(100 * GL + 10 * GH + GD)[T.400]     0.2787      2.517      0.111      0.912      -4.654       5.212\n",
      "=====================================================================================================\n"
     ]
    }
   ],
   "source": [
    "# find and remove outliers and fit again\n",
    "residuals = data['Y']-g_fit.fittedvalues\n",
    "z = np.abs(stats.zscore(residuals,ddof=16))\n",
    "threshold = 3\n",
    "outliers = np.where(z > 3)\n",
    "print('Detected and removed {} outliers'.format(len(outliers[0])))\n",
    "data_gnew = data.drop(outliers[0])\n",
    "g_fit = smf.glm(formula='Y ~ C(100*PL+10*PH+PD) + C(100*GL+10*GH+GD)', data=data_gnew, family =sm.families.Binomial(link=sm.families.links.logit)).fit()\n",
    "print(g_fit.summary())"
   ]
  },
  {
   "cell_type": "markdown",
   "metadata": {},
   "source": [
    "This model has more degrees of freedom, thus per default fits the data better. Compared to the parent model, there are now coefficients with negative values. The coefficients related to the grandparents are smaller than those of the parents."
   ]
  },
  {
   "cell_type": "markdown",
   "metadata": {},
   "source": [
    "## Visually compare the two models with the data"
   ]
  },
  {
   "cell_type": "code",
   "execution_count": 19,
   "metadata": {},
   "outputs": [
    {
     "data": {
      "image/png": "[encoded data removed]",
      "text/plain": [
       "<Figure size 1080x576 with 1 Axes>"
      ]
     },
     "metadata": {
      "needs_background": "light"
     },
     "output_type": "display_data"
    }
   ],
   "source": [
    "# plot the original data and the two fitted models\n",
    "fig = plt.figure(figsize=(15,8))\n",
    "plt.plot(np.asarray(data_pnew.index),data_pnew['Y'],'bo',label='data')\n",
    "plt.plot(np.asarray(data_pnew.index),p_fit.fittedvalues,'ro',label='p_fit')\n",
    "plt.plot(np.asarray(data_gnew.index),g_fit.fittedvalues,'mo',label='g_fit')\n",
    "plt.legend()\n",
    "plt.xlabel('family index')\n",
    "plt.ylabel('proportion light eyed children')\n",
    "plt.show()"
   ]
  },
  {
   "cell_type": "markdown",
   "metadata": {},
   "source": [
    "Both models fit the data comparably well. The eye color of the grandparents adds additional information about the genes of the parents and thus allows for a better fit. Outliers that the model cannot account for can arise from chiasmas happening during meiosis, infidelity of the parents, or mistakes during data collection."
   ]
  }
 ],
 "metadata": {
  "kernelspec": {
   "display_name": "Python 3",
   "language": "python",
   "name": "python3"
  },
  "language_info": {
   "codemirror_mode": {
    "name": "ipython",
    "version": 3
   },
   "file_extension": ".py",
   "mimetype": "text/x-python",
   "name": "python",
   "nbconvert_exporter": "python",
   "pygments_lexer": "ipython3",
   "version": "3.7.2"
  }
 },
 "nbformat": 4,
 "nbformat_minor": 2
}
